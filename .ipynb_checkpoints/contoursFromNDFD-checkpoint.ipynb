{
 "cells": [
  {
   "cell_type": "code",
   "execution_count": 54,
   "metadata": {},
   "outputs": [],
   "source": [
    "import numpy as np\n",
    "import pygrib as pg\n",
    "import json\n",
    "import pathlib\n",
    "import matplotlib.pyplot as plt\n",
    "import shapely.geometry as sg"
   ]
  },
  {
   "cell_type": "code",
   "execution_count": 10,
   "metadata": {},
   "outputs": [],
   "source": [
    "ndfd_string = '../../../sampleinputs/torn_day1_grib2_1630_20190520162619'\n",
    "ndfd_file = pathlib.Path(ndfd_string) "
   ]
  },
  {
   "cell_type": "code",
   "execution_count": 14,
   "metadata": {},
   "outputs": [
    {
     "data": {
      "text/plain": [
       "str"
      ]
     },
     "execution_count": 14,
     "metadata": {},
     "output_type": "execute_result"
    }
   ],
   "source": [
    "type(ndfd_file.as_posix())"
   ]
  },
  {
   "cell_type": "code",
   "execution_count": 20,
   "metadata": {},
   "outputs": [],
   "source": [
    "with pg.open(ndfd_file.as_posix()) as GRB:\n",
    "    try:\n",
    "        vals = GRB[1].values.filled(-1)\n",
    "    except AttributeError:\n",
    "        vals = GRB[1].values\n",
    "        \n",
    "    lats,lons = GRB[1].latlons()"
   ]
  },
  {
   "cell_type": "code",
   "execution_count": 26,
   "metadata": {},
   "outputs": [
    {
     "data": {
      "text/plain": [
       "45.0"
      ]
     },
     "execution_count": 26,
     "metadata": {},
     "output_type": "execute_result"
    }
   ],
   "source": [
    "np.max(vals)"
   ]
  },
  {
   "cell_type": "markdown",
   "metadata": {},
   "source": [
    "### Get contours from ndfd grid"
   ]
  },
  {
   "cell_type": "code",
   "execution_count": 86,
   "metadata": {},
   "outputs": [
    {
     "data": {
      "image/png": "[encoded data removed]",
      "text/plain": [
       "<Figure size 432x288 with 1 Axes>"
      ]
     },
     "metadata": {
      "needs_background": "light"
     },
     "output_type": "display_data"
    }
   ],
   "source": [
    "levels = [1.9999, 4.9999, 9.9999, 14.9999, 29.9999, 44.9999, 59.9999]\n",
    "c = plt.contour(lons,lats,vals,levels=levels)"
   ]
  },
  {
   "cell_type": "markdown",
   "metadata": {},
   "source": [
    "## Make geojson"
   ]
  },
  {
   "cell_type": "code",
   "execution_count": 40,
   "metadata": {},
   "outputs": [],
   "source": [
    "geojson = {\"type\": \"FeatureCollection\", \"features\": []}"
   ]
  },
  {
   "cell_type": "markdown",
   "metadata": {},
   "source": [
    "Make contour_to_geojson function"
   ]
  },
  {
   "cell_type": "code",
   "execution_count": 103,
   "metadata": {},
   "outputs": [],
   "source": [
    "def formatGeoJson(level,coords):\n",
    "     return {\n",
    "        'type': 'Feature',\n",
    "        'properties': {\n",
    "            'probability': float('{:.2f}'.format(level))\n",
    "        },\n",
    "        'geometry': {\n",
    "            'coordinates': [coords],\n",
    "            'type': 'MultiPolygon'\n",
    "        }\n",
    "     }"
   ]
  },
  {
   "cell_type": "code",
   "execution_count": 104,
   "metadata": {},
   "outputs": [],
   "source": [
    "def contours_to_geojson(contours):\n",
    "    \n",
    "    # Instantiate geojson 'object'\n",
    "    geojson = {\"type\": \"FeatureCollection\", \"features\": []}\n",
    "    \n",
    "    # What does this do?\n",
    "    j2 = 0\n",
    "    \n",
    "    # Loop through each probability level\n",
    "    for i,level in enumerate(contours.levels):\n",
    "        \n",
    "        # Get paths for each probability level\n",
    "        paths = contours.collections[i].get_paths()\n",
    "        \n",
    "        # Loop through individual path lines of each probability level\n",
    "        for path in paths:\n",
    "            \n",
    "            j2 += 1\n",
    "            \n",
    "            # Get shapely polygon object from path vertices\n",
    "            poly = sg.Polygon(path.vertices)\n",
    "            \n",
    "            coords = []\n",
    "            \n",
    "            if poly.geom_type == 'MultiPolygon':\n",
    "                \n",
    "                for singlePoly in poly:\n",
    "                    \n",
    "                    if len(list(singlePoly.interiors)) > 0:\n",
    "                        print('uh oh, hole in poly')\n",
    "                    \n",
    "                    for pair in singlePoly.exterior.coords:\n",
    "                        coords.append(list(pair))\n",
    "                        \n",
    "                    json = formatGeoJson(level,coords)\n",
    "                    \n",
    "                    geojson['features'].append(json)\n",
    "            \n",
    "            elif poly.geom_type == 'Polygon':\n",
    "                if len(list(poly.interiors)) > 0:\n",
    "                    print('uh oh, hole in poly')\n",
    "                \n",
    "                for pair in poly.exterior.coords:\n",
    "                    coords.append(list(pair))\n",
    "                    \n",
    "                json = formatGeoJson(level,coords)\n",
    "                \n",
    "                geojson['features'].append(json)\n",
    "                \n",
    "    return str(geojson).replace(\"'\",'\"')\n",
    "            "
   ]
  },
  {
   "cell_type": "code",
   "execution_count": 105,
   "metadata": {},
   "outputs": [],
   "source": [
    "geoStr = contours_to_geojson(c)"
   ]
  },
  {
   "cell_type": "code",
   "execution_count": 106,
   "metadata": {},
   "outputs": [],
   "source": [
    "f = open('test.geojson', 'w')\n",
    "f.write(geoStr)\n",
    "f.close()"
   ]
  },
  {
   "cell_type": "markdown",
   "metadata": {},
   "source": [
    "### Messing around"
   ]
  },
  {
   "cell_type": "code",
   "execution_count": 66,
   "metadata": {},
   "outputs": [],
   "source": [
    "testPath = c.collections[1].get_paths()[0]\n",
    "poly = sg.Polygon(testPath.vertices)"
   ]
  },
  {
   "cell_type": "code",
   "execution_count": 87,
   "metadata": {},
   "outputs": [
    {
     "name": "stdout",
     "output_type": "stream",
     "text": [
      "2.00\n",
      "5.00\n",
      "10.00\n",
      "15.00\n",
      "30.00\n",
      "45.00\n",
      "60.00\n"
     ]
    }
   ],
   "source": [
    "for level in c.levels:\n",
    "    print('{:.2f}'.format(level))"
   ]
  },
  {
   "cell_type": "code",
   "execution_count": 89,
   "metadata": {},
   "outputs": [
    {
     "ename": "OSError",
     "evalue": "oof",
     "output_type": "error",
     "traceback": [
      "\u001b[0;31m---------------------------------------------------------------------------\u001b[0m",
      "\u001b[0;31mOSError\u001b[0m                                   Traceback (most recent call last)",
      "\u001b[0;32m<ipython-input-89-5a9fcd9937b3>\u001b[0m in \u001b[0;36m<module>\u001b[0;34m\u001b[0m\n\u001b[0;32m----> 1\u001b[0;31m \u001b[0;32mraise\u001b[0m \u001b[0mIOError\u001b[0m\u001b[0;34m(\u001b[0m\u001b[0;34m'oof'\u001b[0m\u001b[0;34m)\u001b[0m\u001b[0;34m\u001b[0m\u001b[0;34m\u001b[0m\u001b[0m\n\u001b[0m",
      "\u001b[0;31mOSError\u001b[0m: oof"
     ]
    }
   ],
   "source": []
  },
  {
   "cell_type": "code",
   "execution_count": null,
   "metadata": {},
   "outputs": [],
   "source": []
  }
 ],
 "metadata": {
  "kernelspec": {
   "display_name": "Python 3",
   "language": "python",
   "name": "python3"
  },
  "language_info": {
   "codemirror_mode": {
    "name": "ipython",
    "version": 3
   },
   "file_extension": ".py",
   "mimetype": "text/x-python",
   "name": "python",
   "nbconvert_exporter": "python",
   "pygments_lexer": "ipython3",
   "version": "3.7.7"
  }
 },
 "nbformat": 4,
 "nbformat_minor": 4
}
